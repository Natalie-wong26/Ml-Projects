{
 "cells": [
  {
   "cell_type": "markdown",
   "metadata": {},
   "source": [
    "## I. Perkenalan\n",
    "--- \n",
    "### Gambaran Besar Dataset\n",
    "Dataset ini berisi pengamatan cuaca harian dari beberapa lokasi di Australia selama sekitar 10 tahun (dari tahun 2007 - 2017).  \n",
    "RainTomorrow adalah variabel target untuk diprediksi, artinya apakah hari berikutnya hujan, Ya atau Tidak? Ya jika hujan > 1mm  \n",
    "\n",
    "Arti setiap kolom [Column Meaning](http://www.bom.gov.au/climate/dwo/IDCJDW0000.shtml)\n",
    "\n",
    "\n",
    "### Objektif\n",
    "Memprediksi hujan di hari berikutnya dengan melatih model klasifikasi pada variabel target RainTomorrow.\n"
   ]
  },
  {
   "cell_type": "markdown",
   "metadata": {},
   "source": [
    "## II. Import Pustaka\n",
    "---"
   ]
  },
  {
   "cell_type": "code",
   "execution_count": 6,
   "metadata": {},
   "outputs": [],
   "source": [
    "import numpy as np\n",
    "import pandas as pd\n",
    "\n",
    "import matplotlib.pyplot as plt\n",
    "%matplotlib inline\n",
    "import seaborn as sns\n",
    "\n",
    "from sklearn.compose import ColumnTransformer\n",
    "from sklearn.impute import SimpleImputer\n",
    "from sklearn.preprocessing import OneHotEncoder, StandardScaler\n",
    "from sklearn.model_selection import train_test_split, RandomizedSearchCV\n",
    "from sklearn.linear_model import LogisticRegression\n",
    "from sklearn.metrics import classification_report, confusion_matrix\n",
    "from sklearn.pipeline import Pipeline\n",
    "from sklearn.svm import SVC\n",
    "\n",
    "import warnings\n",
    "warnings.filterwarnings(\"ignore\")\n",
    "\n",
    "import random\n",
    "from collections import Counter"
   ]
  },
  {
   "cell_type": "markdown",
   "metadata": {},
   "source": [
    "## III. Data Loading\n",
    "---"
   ]
  },
  {
   "cell_type": "code",
   "execution_count": 7,
   "metadata": {},
   "outputs": [
    {
     "data": {
      "text/html": [
       "<div>\n",
       "<style scoped>\n",
       "    .dataframe tbody tr th:only-of-type {\n",
       "        vertical-align: middle;\n",
       "    }\n",
       "\n",
       "    .dataframe tbody tr th {\n",
       "        vertical-align: top;\n",
       "    }\n",
       "\n",
       "    .dataframe thead th {\n",
       "        text-align: right;\n",
       "    }\n",
       "</style>\n",
       "<table border=\"1\" class=\"dataframe\">\n",
       "  <thead>\n",
       "    <tr style=\"text-align: right;\">\n",
       "      <th></th>\n",
       "      <th>Date</th>\n",
       "      <th>Location</th>\n",
       "      <th>MinTemp</th>\n",
       "      <th>MaxTemp</th>\n",
       "      <th>Rainfall</th>\n",
       "      <th>Evaporation</th>\n",
       "      <th>Sunshine</th>\n",
       "      <th>WindGustDir</th>\n",
       "      <th>WindGustSpeed</th>\n",
       "      <th>WindDir9am</th>\n",
       "      <th>WindDir3pm</th>\n",
       "      <th>WindSpeed9am</th>\n",
       "      <th>WindSpeed3pm</th>\n",
       "      <th>Humidity9am</th>\n",
       "      <th>Humidity3pm</th>\n",
       "      <th>Pressure9am</th>\n",
       "      <th>Pressure3pm</th>\n",
       "      <th>Cloud9am</th>\n",
       "      <th>Cloud3pm</th>\n",
       "      <th>Temp9am</th>\n",
       "      <th>Temp3pm</th>\n",
       "      <th>RainToday</th>\n",
       "      <th>RainTomorrow</th>\n",
       "    </tr>\n",
       "  </thead>\n",
       "  <tbody>\n",
       "    <tr>\n",
       "      <th>0</th>\n",
       "      <td>2008-12-01</td>\n",
       "      <td>Albury</td>\n",
       "      <td>13.4</td>\n",
       "      <td>22.9</td>\n",
       "      <td>0.6</td>\n",
       "      <td>NaN</td>\n",
       "      <td>NaN</td>\n",
       "      <td>W</td>\n",
       "      <td>44.0</td>\n",
       "      <td>W</td>\n",
       "      <td>WNW</td>\n",
       "      <td>20.0</td>\n",
       "      <td>24.0</td>\n",
       "      <td>71.0</td>\n",
       "      <td>22.0</td>\n",
       "      <td>1007.7</td>\n",
       "      <td>1007.1</td>\n",
       "      <td>8.0</td>\n",
       "      <td>NaN</td>\n",
       "      <td>16.9</td>\n",
       "      <td>21.8</td>\n",
       "      <td>No</td>\n",
       "      <td>No</td>\n",
       "    </tr>\n",
       "    <tr>\n",
       "      <th>1</th>\n",
       "      <td>2008-12-02</td>\n",
       "      <td>Albury</td>\n",
       "      <td>7.4</td>\n",
       "      <td>25.1</td>\n",
       "      <td>0.0</td>\n",
       "      <td>NaN</td>\n",
       "      <td>NaN</td>\n",
       "      <td>WNW</td>\n",
       "      <td>44.0</td>\n",
       "      <td>NNW</td>\n",
       "      <td>WSW</td>\n",
       "      <td>4.0</td>\n",
       "      <td>22.0</td>\n",
       "      <td>44.0</td>\n",
       "      <td>25.0</td>\n",
       "      <td>1010.6</td>\n",
       "      <td>1007.8</td>\n",
       "      <td>NaN</td>\n",
       "      <td>NaN</td>\n",
       "      <td>17.2</td>\n",
       "      <td>24.3</td>\n",
       "      <td>No</td>\n",
       "      <td>No</td>\n",
       "    </tr>\n",
       "    <tr>\n",
       "      <th>2</th>\n",
       "      <td>2008-12-03</td>\n",
       "      <td>Albury</td>\n",
       "      <td>12.9</td>\n",
       "      <td>25.7</td>\n",
       "      <td>0.0</td>\n",
       "      <td>NaN</td>\n",
       "      <td>NaN</td>\n",
       "      <td>WSW</td>\n",
       "      <td>46.0</td>\n",
       "      <td>W</td>\n",
       "      <td>WSW</td>\n",
       "      <td>19.0</td>\n",
       "      <td>26.0</td>\n",
       "      <td>38.0</td>\n",
       "      <td>30.0</td>\n",
       "      <td>1007.6</td>\n",
       "      <td>1008.7</td>\n",
       "      <td>NaN</td>\n",
       "      <td>2.0</td>\n",
       "      <td>21.0</td>\n",
       "      <td>23.2</td>\n",
       "      <td>No</td>\n",
       "      <td>No</td>\n",
       "    </tr>\n",
       "    <tr>\n",
       "      <th>3</th>\n",
       "      <td>2008-12-04</td>\n",
       "      <td>Albury</td>\n",
       "      <td>9.2</td>\n",
       "      <td>28.0</td>\n",
       "      <td>0.0</td>\n",
       "      <td>NaN</td>\n",
       "      <td>NaN</td>\n",
       "      <td>NE</td>\n",
       "      <td>24.0</td>\n",
       "      <td>SE</td>\n",
       "      <td>E</td>\n",
       "      <td>11.0</td>\n",
       "      <td>9.0</td>\n",
       "      <td>45.0</td>\n",
       "      <td>16.0</td>\n",
       "      <td>1017.6</td>\n",
       "      <td>1012.8</td>\n",
       "      <td>NaN</td>\n",
       "      <td>NaN</td>\n",
       "      <td>18.1</td>\n",
       "      <td>26.5</td>\n",
       "      <td>No</td>\n",
       "      <td>No</td>\n",
       "    </tr>\n",
       "    <tr>\n",
       "      <th>4</th>\n",
       "      <td>2008-12-05</td>\n",
       "      <td>Albury</td>\n",
       "      <td>17.5</td>\n",
       "      <td>32.3</td>\n",
       "      <td>1.0</td>\n",
       "      <td>NaN</td>\n",
       "      <td>NaN</td>\n",
       "      <td>W</td>\n",
       "      <td>41.0</td>\n",
       "      <td>ENE</td>\n",
       "      <td>NW</td>\n",
       "      <td>7.0</td>\n",
       "      <td>20.0</td>\n",
       "      <td>82.0</td>\n",
       "      <td>33.0</td>\n",
       "      <td>1010.8</td>\n",
       "      <td>1006.0</td>\n",
       "      <td>7.0</td>\n",
       "      <td>8.0</td>\n",
       "      <td>17.8</td>\n",
       "      <td>29.7</td>\n",
       "      <td>No</td>\n",
       "      <td>No</td>\n",
       "    </tr>\n",
       "  </tbody>\n",
       "</table>\n",
       "</div>"
      ],
      "text/plain": [
       "         Date Location  MinTemp  MaxTemp  Rainfall  Evaporation  Sunshine  \\\n",
       "0  2008-12-01   Albury     13.4     22.9       0.6          NaN       NaN   \n",
       "1  2008-12-02   Albury      7.4     25.1       0.0          NaN       NaN   \n",
       "2  2008-12-03   Albury     12.9     25.7       0.0          NaN       NaN   \n",
       "3  2008-12-04   Albury      9.2     28.0       0.0          NaN       NaN   \n",
       "4  2008-12-05   Albury     17.5     32.3       1.0          NaN       NaN   \n",
       "\n",
       "  WindGustDir  WindGustSpeed WindDir9am WindDir3pm  WindSpeed9am  \\\n",
       "0           W           44.0          W        WNW          20.0   \n",
       "1         WNW           44.0        NNW        WSW           4.0   \n",
       "2         WSW           46.0          W        WSW          19.0   \n",
       "3          NE           24.0         SE          E          11.0   \n",
       "4           W           41.0        ENE         NW           7.0   \n",
       "\n",
       "   WindSpeed3pm  Humidity9am  Humidity3pm  Pressure9am  Pressure3pm  Cloud9am  \\\n",
       "0          24.0         71.0         22.0       1007.7       1007.1       8.0   \n",
       "1          22.0         44.0         25.0       1010.6       1007.8       NaN   \n",
       "2          26.0         38.0         30.0       1007.6       1008.7       NaN   \n",
       "3           9.0         45.0         16.0       1017.6       1012.8       NaN   \n",
       "4          20.0         82.0         33.0       1010.8       1006.0       7.0   \n",
       "\n",
       "   Cloud3pm  Temp9am  Temp3pm RainToday RainTomorrow  \n",
       "0       NaN     16.9     21.8        No           No  \n",
       "1       NaN     17.2     24.3        No           No  \n",
       "2       2.0     21.0     23.2        No           No  \n",
       "3       NaN     18.1     26.5        No           No  \n",
       "4       8.0     17.8     29.7        No           No  "
      ]
     },
     "execution_count": 7,
     "metadata": {},
     "output_type": "execute_result"
    }
   ],
   "source": [
    "data_raw = pd.read_csv('data/weatherAUS.csv')\n",
    "pd.set_option(\"display.max_columns\", None) # untuk menampilkan semua kolom\n",
    "data_raw.head()"
   ]
  },
  {
   "cell_type": "code",
   "execution_count": 8,
   "metadata": {},
   "outputs": [
    {
     "name": "stdout",
     "output_type": "stream",
     "text": [
      "<class 'pandas.core.frame.DataFrame'>\n",
      "RangeIndex: 145460 entries, 0 to 145459\n",
      "Data columns (total 23 columns):\n",
      " #   Column         Non-Null Count   Dtype  \n",
      "---  ------         --------------   -----  \n",
      " 0   Date           145460 non-null  object \n",
      " 1   Location       145460 non-null  object \n",
      " 2   MinTemp        143975 non-null  float64\n",
      " 3   MaxTemp        144199 non-null  float64\n",
      " 4   Rainfall       142199 non-null  float64\n",
      " 5   Evaporation    82670 non-null   float64\n",
      " 6   Sunshine       75625 non-null   float64\n",
      " 7   WindGustDir    135134 non-null  object \n",
      " 8   WindGustSpeed  135197 non-null  float64\n",
      " 9   WindDir9am     134894 non-null  object \n",
      " 10  WindDir3pm     141232 non-null  object \n",
      " 11  WindSpeed9am   143693 non-null  float64\n",
      " 12  WindSpeed3pm   142398 non-null  float64\n",
      " 13  Humidity9am    142806 non-null  float64\n",
      " 14  Humidity3pm    140953 non-null  float64\n",
      " 15  Pressure9am    130395 non-null  float64\n",
      " 16  Pressure3pm    130432 non-null  float64\n",
      " 17  Cloud9am       89572 non-null   float64\n",
      " 18  Cloud3pm       86102 non-null   float64\n",
      " 19  Temp9am        143693 non-null  float64\n",
      " 20  Temp3pm        141851 non-null  float64\n",
      " 21  RainToday      142199 non-null  object \n",
      " 22  RainTomorrow   142193 non-null  object \n",
      "dtypes: float64(16), object(7)\n",
      "memory usage: 25.5+ MB\n"
     ]
    }
   ],
   "source": [
    "data_raw.info()"
   ]
  },
  {
   "cell_type": "code",
   "execution_count": 9,
   "metadata": {},
   "outputs": [
    {
     "data": {
      "text/plain": [
       "Date                 0\n",
       "Location             0\n",
       "MinTemp           1485\n",
       "MaxTemp           1261\n",
       "Rainfall          3261\n",
       "Evaporation      62790\n",
       "Sunshine         69835\n",
       "WindGustDir      10326\n",
       "WindGustSpeed    10263\n",
       "WindDir9am       10566\n",
       "WindDir3pm        4228\n",
       "WindSpeed9am      1767\n",
       "WindSpeed3pm      3062\n",
       "Humidity9am       2654\n",
       "Humidity3pm       4507\n",
       "Pressure9am      15065\n",
       "Pressure3pm      15028\n",
       "Cloud9am         55888\n",
       "Cloud3pm         59358\n",
       "Temp9am           1767\n",
       "Temp3pm           3609\n",
       "RainToday         3261\n",
       "RainTomorrow      3267\n",
       "dtype: int64"
      ]
     },
     "execution_count": 9,
     "metadata": {},
     "output_type": "execute_result"
    }
   ],
   "source": [
    "data_raw.isnull().sum()"
   ]
  },
  {
   "cell_type": "code",
   "execution_count": 10,
   "metadata": {},
   "outputs": [
    {
     "data": {
      "text/plain": [
       "(145460, 23)"
      ]
     },
     "execution_count": 10,
     "metadata": {},
     "output_type": "execute_result"
    }
   ],
   "source": [
    "data_raw.shape"
   ]
  },
  {
   "cell_type": "code",
   "execution_count": 11,
   "metadata": {},
   "outputs": [
    {
     "data": {
      "text/html": [
       "<div>\n",
       "<style scoped>\n",
       "    .dataframe tbody tr th:only-of-type {\n",
       "        vertical-align: middle;\n",
       "    }\n",
       "\n",
       "    .dataframe tbody tr th {\n",
       "        vertical-align: top;\n",
       "    }\n",
       "\n",
       "    .dataframe thead th {\n",
       "        text-align: right;\n",
       "    }\n",
       "</style>\n",
       "<table border=\"1\" class=\"dataframe\">\n",
       "  <thead>\n",
       "    <tr style=\"text-align: right;\">\n",
       "      <th></th>\n",
       "      <th>Date</th>\n",
       "      <th>Location</th>\n",
       "      <th>MinTemp</th>\n",
       "      <th>MaxTemp</th>\n",
       "      <th>Rainfall</th>\n",
       "      <th>Evaporation</th>\n",
       "      <th>Sunshine</th>\n",
       "      <th>WindGustDir</th>\n",
       "      <th>WindGustSpeed</th>\n",
       "      <th>WindDir9am</th>\n",
       "      <th>WindDir3pm</th>\n",
       "      <th>WindSpeed9am</th>\n",
       "      <th>WindSpeed3pm</th>\n",
       "      <th>Humidity9am</th>\n",
       "      <th>Humidity3pm</th>\n",
       "      <th>Pressure9am</th>\n",
       "      <th>Pressure3pm</th>\n",
       "      <th>Cloud9am</th>\n",
       "      <th>Cloud3pm</th>\n",
       "      <th>Temp9am</th>\n",
       "      <th>Temp3pm</th>\n",
       "      <th>RainToday</th>\n",
       "      <th>RainTomorrow</th>\n",
       "    </tr>\n",
       "  </thead>\n",
       "  <tbody>\n",
       "  </tbody>\n",
       "</table>\n",
       "</div>"
      ],
      "text/plain": [
       "Empty DataFrame\n",
       "Columns: [Date, Location, MinTemp, MaxTemp, Rainfall, Evaporation, Sunshine, WindGustDir, WindGustSpeed, WindDir9am, WindDir3pm, WindSpeed9am, WindSpeed3pm, Humidity9am, Humidity3pm, Pressure9am, Pressure3pm, Cloud9am, Cloud3pm, Temp9am, Temp3pm, RainToday, RainTomorrow]\n",
       "Index: []"
      ]
     },
     "execution_count": 11,
     "metadata": {},
     "output_type": "execute_result"
    }
   ],
   "source": [
    "data_raw[data_raw.duplicated()]"
   ]
  },
  {
   "cell_type": "markdown",
   "metadata": {},
   "source": [
    "## IV. Data Cleaning\n",
    "---"
   ]
  },
  {
   "cell_type": "markdown",
   "metadata": {},
   "source": [
    "### Missing Values\n",
    "Terlihat tidak ada data yang duplikat namun banyak terdapat *missing value* di hampir semua kolom (hanya kolom `Date` dan `Location` yang tidak ada missing value). Untuk missing value di kolom `RainTommorrow` yang merupakan target akan saya drop barisnya karena hanya 3,267 data yang missing, jika dilakukan **data imputation** mungkin dapat menyebabkan bias.  \n",
    "\n",
    "Yang akan saya lakukan:\n",
    "- Pertama saya akan melakukan pengecekan persentase *missing value*, untuk kolom yang memiliki *missing value* >= 30% akan saya drop\n",
    "- Untuk kolom target `RainTommorow`, baris yang memiliki missing value akan di drop\n",
    "- Selanjutnya semua proses yang disebutkan di bawah akan dilakukan pada bagian Data Preprocessing\n",
    "- Data akan saya split menjadi *training set* dan *test set*\n",
    "- Kemudian saya akan lakukan adalah melakukan data imputation untuk kolom-kolom feature\n",
    "- Untuk data merupakan numerik akan saya lakukan data imputation menggunakan nilai *median*  \n",
    "- Untuk data kategorik akan diisi dengan *most frequesnt* "
   ]
  },
  {
   "cell_type": "code",
   "execution_count": 12,
   "metadata": {},
   "outputs": [],
   "source": [
    "data = data_raw.copy()"
   ]
  },
  {
   "cell_type": "code",
   "execution_count": 13,
   "metadata": {},
   "outputs": [
    {
     "data": {
      "text/html": [
       "<div>\n",
       "<style scoped>\n",
       "    .dataframe tbody tr th:only-of-type {\n",
       "        vertical-align: middle;\n",
       "    }\n",
       "\n",
       "    .dataframe tbody tr th {\n",
       "        vertical-align: top;\n",
       "    }\n",
       "\n",
       "    .dataframe thead th {\n",
       "        text-align: right;\n",
       "    }\n",
       "</style>\n",
       "<table border=\"1\" class=\"dataframe\">\n",
       "  <thead>\n",
       "    <tr style=\"text-align: right;\">\n",
       "      <th></th>\n",
       "      <th>Missing Value</th>\n",
       "    </tr>\n",
       "  </thead>\n",
       "  <tbody>\n",
       "    <tr>\n",
       "      <th>Date</th>\n",
       "      <td>0.000000</td>\n",
       "    </tr>\n",
       "    <tr>\n",
       "      <th>Location</th>\n",
       "      <td>0.000000</td>\n",
       "    </tr>\n",
       "    <tr>\n",
       "      <th>MinTemp</th>\n",
       "      <td>0.010209</td>\n",
       "    </tr>\n",
       "    <tr>\n",
       "      <th>MaxTemp</th>\n",
       "      <td>0.008669</td>\n",
       "    </tr>\n",
       "    <tr>\n",
       "      <th>Rainfall</th>\n",
       "      <td>0.022419</td>\n",
       "    </tr>\n",
       "    <tr>\n",
       "      <th>Evaporation</th>\n",
       "      <td>0.431665</td>\n",
       "    </tr>\n",
       "    <tr>\n",
       "      <th>Sunshine</th>\n",
       "      <td>0.480098</td>\n",
       "    </tr>\n",
       "    <tr>\n",
       "      <th>WindGustDir</th>\n",
       "      <td>0.070989</td>\n",
       "    </tr>\n",
       "    <tr>\n",
       "      <th>WindGustSpeed</th>\n",
       "      <td>0.070555</td>\n",
       "    </tr>\n",
       "    <tr>\n",
       "      <th>WindDir9am</th>\n",
       "      <td>0.072639</td>\n",
       "    </tr>\n",
       "    <tr>\n",
       "      <th>WindDir3pm</th>\n",
       "      <td>0.029066</td>\n",
       "    </tr>\n",
       "    <tr>\n",
       "      <th>WindSpeed9am</th>\n",
       "      <td>0.012148</td>\n",
       "    </tr>\n",
       "    <tr>\n",
       "      <th>WindSpeed3pm</th>\n",
       "      <td>0.021050</td>\n",
       "    </tr>\n",
       "    <tr>\n",
       "      <th>Humidity9am</th>\n",
       "      <td>0.018246</td>\n",
       "    </tr>\n",
       "    <tr>\n",
       "      <th>Humidity3pm</th>\n",
       "      <td>0.030984</td>\n",
       "    </tr>\n",
       "    <tr>\n",
       "      <th>Pressure9am</th>\n",
       "      <td>0.103568</td>\n",
       "    </tr>\n",
       "    <tr>\n",
       "      <th>Pressure3pm</th>\n",
       "      <td>0.103314</td>\n",
       "    </tr>\n",
       "    <tr>\n",
       "      <th>Cloud9am</th>\n",
       "      <td>0.384216</td>\n",
       "    </tr>\n",
       "    <tr>\n",
       "      <th>Cloud3pm</th>\n",
       "      <td>0.408071</td>\n",
       "    </tr>\n",
       "    <tr>\n",
       "      <th>Temp9am</th>\n",
       "      <td>0.012148</td>\n",
       "    </tr>\n",
       "    <tr>\n",
       "      <th>Temp3pm</th>\n",
       "      <td>0.024811</td>\n",
       "    </tr>\n",
       "    <tr>\n",
       "      <th>RainToday</th>\n",
       "      <td>0.022419</td>\n",
       "    </tr>\n",
       "    <tr>\n",
       "      <th>RainTomorrow</th>\n",
       "      <td>0.022460</td>\n",
       "    </tr>\n",
       "  </tbody>\n",
       "</table>\n",
       "</div>"
      ],
      "text/plain": [
       "               Missing Value\n",
       "Date                0.000000\n",
       "Location            0.000000\n",
       "MinTemp             0.010209\n",
       "MaxTemp             0.008669\n",
       "Rainfall            0.022419\n",
       "Evaporation         0.431665\n",
       "Sunshine            0.480098\n",
       "WindGustDir         0.070989\n",
       "WindGustSpeed       0.070555\n",
       "WindDir9am          0.072639\n",
       "WindDir3pm          0.029066\n",
       "WindSpeed9am        0.012148\n",
       "WindSpeed3pm        0.021050\n",
       "Humidity9am         0.018246\n",
       "Humidity3pm         0.030984\n",
       "Pressure9am         0.103568\n",
       "Pressure3pm         0.103314\n",
       "Cloud9am            0.384216\n",
       "Cloud3pm            0.408071\n",
       "Temp9am             0.012148\n",
       "Temp3pm             0.024811\n",
       "RainToday           0.022419\n",
       "RainTomorrow        0.022460"
      ]
     },
     "execution_count": 13,
     "metadata": {},
     "output_type": "execute_result"
    }
   ],
   "source": [
    "pd.DataFrame({\n",
    "    'Missing Value': (data.isnull().mean())\n",
    "})"
   ]
  },
  {
   "cell_type": "code",
   "execution_count": 14,
   "metadata": {},
   "outputs": [
    {
     "name": "stdout",
     "output_type": "stream",
     "text": [
      "Kolom Evaporation dengan persen data hilang = 43.167% di drop\n",
      "Kolom Sunshine dengan persen data hilang = 48.010% di drop\n",
      "Kolom Cloud9am dengan persen data hilang = 38.422% di drop\n",
      "Kolom Cloud3pm dengan persen data hilang = 40.807% di drop\n"
     ]
    },
    {
     "data": {
      "text/plain": [
       "Index(['Date', 'Location', 'MinTemp', 'MaxTemp', 'Rainfall', 'WindGustDir',\n",
       "       'WindGustSpeed', 'WindDir9am', 'WindDir3pm', 'WindSpeed9am',\n",
       "       'WindSpeed3pm', 'Humidity9am', 'Humidity3pm', 'Pressure9am',\n",
       "       'Pressure3pm', 'Temp9am', 'Temp3pm', 'RainToday', 'RainTomorrow'],\n",
       "      dtype='object')"
      ]
     },
     "execution_count": 14,
     "metadata": {},
     "output_type": "execute_result"
    }
   ],
   "source": [
    "# drop kolom feature dengan persen data hilang >= 30%\n",
    "for i in data.columns.to_list():\n",
    "    if data[i].isnull().mean() >= 0.3:\n",
    "        print(f\"Kolom {i} dengan persen data hilang = {(data[i].isnull().mean()):.3%} di drop\")\n",
    "        data.drop([i], axis=1, inplace=True)\n",
    "data.columns"
   ]
  },
  {
   "cell_type": "code",
   "execution_count": 15,
   "metadata": {},
   "outputs": [],
   "source": [
    "# drop baris yang memiliki missing value di kolom target `RainTomorrow`\n",
    "data.dropna(subset=['RainTomorrow'], inplace=True)"
   ]
  },
  {
   "cell_type": "markdown",
   "metadata": {},
   "source": [
    "## V. Eksplorasi Data\n",
    "---"
   ]
  },
  {
   "cell_type": "code",
   "execution_count": 16,
   "metadata": {},
   "outputs": [
    {
     "name": "stdout",
     "output_type": "stream",
     "text": [
      "List kolom-kolom kategorik:\n",
      "['Date', 'Location', 'WindGustDir', 'WindDir9am', 'WindDir3pm', 'RainToday', 'RainTomorrow']\n",
      "\n",
      "List kolom-kolom numerik:\n",
      "['MinTemp', 'MaxTemp', 'Rainfall', 'WindGustSpeed', 'WindSpeed9am', 'WindSpeed3pm', 'Humidity9am', 'Humidity3pm', 'Pressure9am', 'Pressure3pm', 'Temp9am', 'Temp3pm']\n"
     ]
    }
   ],
   "source": [
    "location = data.Location.unique() # list semua lokasi\n",
    "\n",
    "cat_data = [col for col in data.columns if data[col].dtype == 'O'] # list kolom-kolom kategorik\n",
    "num_data = [col for col in data.columns if data[col].dtype != 'O'] # list kolom-kolom numerik\n",
    "print(f'List kolom-kolom kategorik:\\n{cat_data}\\n')\n",
    "print(f'List kolom-kolom numerik:\\n{num_data}')"
   ]
  },
  {
   "cell_type": "markdown",
   "metadata": {},
   "source": [
    "Cek distribusi kategori di kolom target `RainTomorrow`"
   ]
  },
  {
   "cell_type": "code",
   "execution_count": 17,
   "metadata": {},
   "outputs": [
    {
     "data": {
      "image/png": "[encoded data removed]",
      "text/plain": [
       "<Figure size 720x360 with 1 Axes>"
      ]
     },
     "metadata": {
      "needs_background": "light"
     },
     "output_type": "display_data"
    }
   ],
   "source": [
    "plt.figure(figsize=(10, 5))\n",
    "data['RainTomorrow'].value_counts().plot(kind='bar')\n",
    "plt.title('Frekuensi Distribusi Nilai pada Kolom Target')\n",
    "plt.show()"
   ]
  },
  {
   "cell_type": "code",
   "execution_count": 18,
   "metadata": {},
   "outputs": [
    {
     "name": "stdout",
     "output_type": "stream",
     "text": [
      "\n",
      "Frekuensi distribusi dari value kolom target `RainTomorrow`:\n",
      "1. Sebanyak 110,316 adalah No\n",
      "2. Sebanyak 31,877 adalah Yes\n",
      "\n",
      "Kategori No jauh lebih banyak daripada kategori Yes, di mana kategori No sekitar 3.5 kali lebih banyak\n",
      "\n"
     ]
    }
   ],
   "source": [
    "dist_RT = data['RainTomorrow'].value_counts(dropna=False)\n",
    "\n",
    "print(f'''\n",
    "Frekuensi distribusi dari value kolom target `RainTomorrow`:\n",
    "1. Sebanyak {dist_RT[0]:,} adalah {dist_RT.index[0]}\n",
    "2. Sebanyak {dist_RT[1]:,} adalah {dist_RT.index[1]}\n",
    "\n",
    "Kategori No jauh lebih banyak daripada kategori Yes, di mana kategori No sekitar 3.5 kali lebih banyak\n",
    "''')\n"
   ]
  },
  {
   "cell_type": "markdown",
   "metadata": {},
   "source": [
    "### Cardinality"
   ]
  },
  {
   "cell_type": "code",
   "execution_count": 19,
   "metadata": {},
   "outputs": [
    {
     "name": "stdout",
     "output_type": "stream",
     "text": [
      "Kardinalitas kolom Date adalah 3436\n",
      "Kardinalitas kolom Location adalah 49\n",
      "Kardinalitas kolom WindGustDir adalah 16\n",
      "Kardinalitas kolom WindDir9am adalah 16\n",
      "Kardinalitas kolom WindDir3pm adalah 16\n",
      "Kardinalitas kolom RainToday adalah 2\n",
      "Kardinalitas kolom RainTomorrow adalah 2\n"
     ]
    }
   ],
   "source": [
    "for i in cat_data:\n",
    "    count = data[i].nunique()\n",
    "    print(f'Kardinalitas kolom {i} adalah {count}')"
   ]
  },
  {
   "cell_type": "markdown",
   "metadata": {},
   "source": [
    "Kolom `Date` memiliki unique value yang terlalu banyak. Untuk mengatasinya saya akan memisah kolom `Date` menjadi 3 kolom yaitu kolom `Day`, `Month` dan `Year` dan untuk kolom lainnya akan dilakukan *one-hot-encoding / label encoding* di bagian **Data Preprocessing**."
   ]
  },
  {
   "cell_type": "code",
   "execution_count": 20,
   "metadata": {},
   "outputs": [
    {
     "data": {
      "text/html": [
       "<div>\n",
       "<style scoped>\n",
       "    .dataframe tbody tr th:only-of-type {\n",
       "        vertical-align: middle;\n",
       "    }\n",
       "\n",
       "    .dataframe tbody tr th {\n",
       "        vertical-align: top;\n",
       "    }\n",
       "\n",
       "    .dataframe thead th {\n",
       "        text-align: right;\n",
       "    }\n",
       "</style>\n",
       "<table border=\"1\" class=\"dataframe\">\n",
       "  <thead>\n",
       "    <tr style=\"text-align: right;\">\n",
       "      <th></th>\n",
       "      <th>Date</th>\n",
       "      <th>Location</th>\n",
       "      <th>WindGustDir</th>\n",
       "      <th>WindDir9am</th>\n",
       "      <th>WindDir3pm</th>\n",
       "      <th>RainToday</th>\n",
       "      <th>RainTomorrow</th>\n",
       "    </tr>\n",
       "  </thead>\n",
       "  <tbody>\n",
       "    <tr>\n",
       "      <th>count</th>\n",
       "      <td>142193</td>\n",
       "      <td>142193</td>\n",
       "      <td>132863</td>\n",
       "      <td>132180</td>\n",
       "      <td>138415</td>\n",
       "      <td>140787</td>\n",
       "      <td>142193</td>\n",
       "    </tr>\n",
       "    <tr>\n",
       "      <th>unique</th>\n",
       "      <td>3436</td>\n",
       "      <td>49</td>\n",
       "      <td>16</td>\n",
       "      <td>16</td>\n",
       "      <td>16</td>\n",
       "      <td>2</td>\n",
       "      <td>2</td>\n",
       "    </tr>\n",
       "    <tr>\n",
       "      <th>top</th>\n",
       "      <td>2016-07-07</td>\n",
       "      <td>Canberra</td>\n",
       "      <td>W</td>\n",
       "      <td>N</td>\n",
       "      <td>SE</td>\n",
       "      <td>No</td>\n",
       "      <td>No</td>\n",
       "    </tr>\n",
       "    <tr>\n",
       "      <th>freq</th>\n",
       "      <td>49</td>\n",
       "      <td>3418</td>\n",
       "      <td>9780</td>\n",
       "      <td>11393</td>\n",
       "      <td>10663</td>\n",
       "      <td>109332</td>\n",
       "      <td>110316</td>\n",
       "    </tr>\n",
       "  </tbody>\n",
       "</table>\n",
       "</div>"
      ],
      "text/plain": [
       "              Date  Location WindGustDir WindDir9am WindDir3pm RainToday  \\\n",
       "count       142193    142193      132863     132180     138415    140787   \n",
       "unique        3436        49          16         16         16         2   \n",
       "top     2016-07-07  Canberra           W          N         SE        No   \n",
       "freq            49      3418        9780      11393      10663    109332   \n",
       "\n",
       "       RainTomorrow  \n",
       "count        142193  \n",
       "unique            2  \n",
       "top              No  \n",
       "freq         110316  "
      ]
     },
     "execution_count": 20,
     "metadata": {},
     "output_type": "execute_result"
    }
   ],
   "source": [
    "data.describe(include='object')"
   ]
  },
  {
   "cell_type": "markdown",
   "metadata": {},
   "source": [
    "### Boxplot untuk Data Numerik"
   ]
  },
  {
   "cell_type": "code",
   "execution_count": 21,
   "metadata": {},
   "outputs": [
    {
     "data": {
      "image/png": "[encoded data removed]",
      "text/plain": [
       "<Figure size 1440x864 with 12 Axes>"
      ]
     },
     "metadata": {},
     "output_type": "display_data"
    }
   ],
   "source": [
    "sns.set_style('whitegrid')\n",
    "fig, axes = plt.subplots(nrows=3, ncols=4, figsize=(20, 12))\n",
    "\n",
    "idx_num = 0\n",
    "for row in range(3):\n",
    "    for col in range(4):\n",
    "        sns.boxplot(data=data, y = num_data[idx_num], ax = axes[row,col])\n",
    "        idx_num += 1\n",
    "    "
   ]
  },
  {
   "cell_type": "code",
   "execution_count": 22,
   "metadata": {},
   "outputs": [
    {
     "data": {
      "text/html": [
       "<div>\n",
       "<style scoped>\n",
       "    .dataframe tbody tr th:only-of-type {\n",
       "        vertical-align: middle;\n",
       "    }\n",
       "\n",
       "    .dataframe tbody tr th {\n",
       "        vertical-align: top;\n",
       "    }\n",
       "\n",
       "    .dataframe thead th {\n",
       "        text-align: right;\n",
       "    }\n",
       "</style>\n",
       "<table border=\"1\" class=\"dataframe\">\n",
       "  <thead>\n",
       "    <tr style=\"text-align: right;\">\n",
       "      <th></th>\n",
       "      <th>MinTemp</th>\n",
       "      <th>MaxTemp</th>\n",
       "      <th>Rainfall</th>\n",
       "      <th>WindGustSpeed</th>\n",
       "      <th>WindSpeed9am</th>\n",
       "      <th>WindSpeed3pm</th>\n",
       "      <th>Humidity9am</th>\n",
       "      <th>Humidity3pm</th>\n",
       "      <th>Pressure9am</th>\n",
       "      <th>Pressure3pm</th>\n",
       "      <th>Temp9am</th>\n",
       "      <th>Temp3pm</th>\n",
       "    </tr>\n",
       "  </thead>\n",
       "  <tbody>\n",
       "    <tr>\n",
       "      <th>count</th>\n",
       "      <td>141556.000000</td>\n",
       "      <td>141871.000000</td>\n",
       "      <td>140787.000000</td>\n",
       "      <td>132923.000000</td>\n",
       "      <td>140845.000000</td>\n",
       "      <td>139563.000000</td>\n",
       "      <td>140419.000000</td>\n",
       "      <td>138583.000000</td>\n",
       "      <td>128179.000000</td>\n",
       "      <td>128212.000000</td>\n",
       "      <td>141289.000000</td>\n",
       "      <td>139467.000000</td>\n",
       "    </tr>\n",
       "    <tr>\n",
       "      <th>mean</th>\n",
       "      <td>12.186400</td>\n",
       "      <td>23.226784</td>\n",
       "      <td>2.349974</td>\n",
       "      <td>39.984292</td>\n",
       "      <td>14.001988</td>\n",
       "      <td>18.637576</td>\n",
       "      <td>68.843810</td>\n",
       "      <td>51.482606</td>\n",
       "      <td>1017.653758</td>\n",
       "      <td>1015.258204</td>\n",
       "      <td>16.987509</td>\n",
       "      <td>21.687235</td>\n",
       "    </tr>\n",
       "    <tr>\n",
       "      <th>std</th>\n",
       "      <td>6.403283</td>\n",
       "      <td>7.117618</td>\n",
       "      <td>8.465173</td>\n",
       "      <td>13.588801</td>\n",
       "      <td>8.893337</td>\n",
       "      <td>8.803345</td>\n",
       "      <td>19.051293</td>\n",
       "      <td>20.797772</td>\n",
       "      <td>7.105476</td>\n",
       "      <td>7.036677</td>\n",
       "      <td>6.492838</td>\n",
       "      <td>6.937594</td>\n",
       "    </tr>\n",
       "    <tr>\n",
       "      <th>min</th>\n",
       "      <td>-8.500000</td>\n",
       "      <td>-4.800000</td>\n",
       "      <td>0.000000</td>\n",
       "      <td>6.000000</td>\n",
       "      <td>0.000000</td>\n",
       "      <td>0.000000</td>\n",
       "      <td>0.000000</td>\n",
       "      <td>0.000000</td>\n",
       "      <td>980.500000</td>\n",
       "      <td>977.100000</td>\n",
       "      <td>-7.200000</td>\n",
       "      <td>-5.400000</td>\n",
       "    </tr>\n",
       "    <tr>\n",
       "      <th>25%</th>\n",
       "      <td>7.600000</td>\n",
       "      <td>17.900000</td>\n",
       "      <td>0.000000</td>\n",
       "      <td>31.000000</td>\n",
       "      <td>7.000000</td>\n",
       "      <td>13.000000</td>\n",
       "      <td>57.000000</td>\n",
       "      <td>37.000000</td>\n",
       "      <td>1012.900000</td>\n",
       "      <td>1010.400000</td>\n",
       "      <td>12.300000</td>\n",
       "      <td>16.600000</td>\n",
       "    </tr>\n",
       "    <tr>\n",
       "      <th>50%</th>\n",
       "      <td>12.000000</td>\n",
       "      <td>22.600000</td>\n",
       "      <td>0.000000</td>\n",
       "      <td>39.000000</td>\n",
       "      <td>13.000000</td>\n",
       "      <td>19.000000</td>\n",
       "      <td>70.000000</td>\n",
       "      <td>52.000000</td>\n",
       "      <td>1017.600000</td>\n",
       "      <td>1015.200000</td>\n",
       "      <td>16.700000</td>\n",
       "      <td>21.100000</td>\n",
       "    </tr>\n",
       "    <tr>\n",
       "      <th>75%</th>\n",
       "      <td>16.800000</td>\n",
       "      <td>28.200000</td>\n",
       "      <td>0.800000</td>\n",
       "      <td>48.000000</td>\n",
       "      <td>19.000000</td>\n",
       "      <td>24.000000</td>\n",
       "      <td>83.000000</td>\n",
       "      <td>66.000000</td>\n",
       "      <td>1022.400000</td>\n",
       "      <td>1020.000000</td>\n",
       "      <td>21.600000</td>\n",
       "      <td>26.400000</td>\n",
       "    </tr>\n",
       "    <tr>\n",
       "      <th>max</th>\n",
       "      <td>33.900000</td>\n",
       "      <td>48.100000</td>\n",
       "      <td>371.000000</td>\n",
       "      <td>135.000000</td>\n",
       "      <td>130.000000</td>\n",
       "      <td>87.000000</td>\n",
       "      <td>100.000000</td>\n",
       "      <td>100.000000</td>\n",
       "      <td>1041.000000</td>\n",
       "      <td>1039.600000</td>\n",
       "      <td>40.200000</td>\n",
       "      <td>46.700000</td>\n",
       "    </tr>\n",
       "  </tbody>\n",
       "</table>\n",
       "</div>"
      ],
      "text/plain": [
       "             MinTemp        MaxTemp       Rainfall  WindGustSpeed  \\\n",
       "count  141556.000000  141871.000000  140787.000000  132923.000000   \n",
       "mean       12.186400      23.226784       2.349974      39.984292   \n",
       "std         6.403283       7.117618       8.465173      13.588801   \n",
       "min        -8.500000      -4.800000       0.000000       6.000000   \n",
       "25%         7.600000      17.900000       0.000000      31.000000   \n",
       "50%        12.000000      22.600000       0.000000      39.000000   \n",
       "75%        16.800000      28.200000       0.800000      48.000000   \n",
       "max        33.900000      48.100000     371.000000     135.000000   \n",
       "\n",
       "        WindSpeed9am   WindSpeed3pm    Humidity9am    Humidity3pm  \\\n",
       "count  140845.000000  139563.000000  140419.000000  138583.000000   \n",
       "mean       14.001988      18.637576      68.843810      51.482606   \n",
       "std         8.893337       8.803345      19.051293      20.797772   \n",
       "min         0.000000       0.000000       0.000000       0.000000   \n",
       "25%         7.000000      13.000000      57.000000      37.000000   \n",
       "50%        13.000000      19.000000      70.000000      52.000000   \n",
       "75%        19.000000      24.000000      83.000000      66.000000   \n",
       "max       130.000000      87.000000     100.000000     100.000000   \n",
       "\n",
       "         Pressure9am    Pressure3pm        Temp9am        Temp3pm  \n",
       "count  128179.000000  128212.000000  141289.000000  139467.000000  \n",
       "mean     1017.653758    1015.258204      16.987509      21.687235  \n",
       "std         7.105476       7.036677       6.492838       6.937594  \n",
       "min       980.500000     977.100000      -7.200000      -5.400000  \n",
       "25%      1012.900000    1010.400000      12.300000      16.600000  \n",
       "50%      1017.600000    1015.200000      16.700000      21.100000  \n",
       "75%      1022.400000    1020.000000      21.600000      26.400000  \n",
       "max      1041.000000    1039.600000      40.200000      46.700000  "
      ]
     },
     "execution_count": 22,
     "metadata": {},
     "output_type": "execute_result"
    }
   ],
   "source": [
    "data.describe()"
   ]
  },
  {
   "cell_type": "markdown",
   "metadata": {},
   "source": [
    "Jika dilihat dari boxplot terlihat semua kecuali feature `Humidity3pm` memiliki outlier. Jika dilihat beberapa feature seperti:\n",
    "1. `MinTemp` --> Temperatur minimum pada satu hari dalam derajat Celcius (min: -8.5, max: 33.9)\n",
    "2. `MaxTemp` --> Temperatur minimum pada satu hari dalam derajat Celcius (min: -4.8, max: 48.1)  \n",
    "Temperatur masih di dalam range temperatur tercatat di Australia di mana yang terendah $-23^{O}C$ sampai $50.7^{O}C$    \n",
    "<br>\n",
    "\n",
    "3. `Rainfall` --> Volume hujan dalam satuan milimeter (min: 0, max: 371)  \n",
    "Nilai 0 berarti pada hari tersebut tidak hujan. Secara keseluruhan curah hujan Australia di kisaran rata-rata rendah, jadi masuk akal jika sebagian besar data rainfall adalah 0. Di mana area yang paling kering bisa hanya mendapat hujan 125mm per tahun  \n",
    "<br>\n",
    "\n",
    "dan lain sebagainya.  \n",
    "Intinya, suatu lokasi bisa saja sewaktu-waktu mengalami cuaca ekstrem yang dapat menyebabkan seakan-akan ada outlier pada boxplot di atas. Pada hal data-data \"outlier\" ini sangat mungkin adalah data nyata. Maka dalam hal ini outlier yang ada tidak akan di hapus.\n",
    "\n",
    "[sumber](https://www.ga.gov.au/scientific-topics/national-location-information/dimensions/climatic-extremes)"
   ]
  },
  {
   "cell_type": "markdown",
   "metadata": {},
   "source": [
    "## VI. Data Preprocessing\n",
    "---"
   ]
  },
  {
   "cell_type": "markdown",
   "metadata": {},
   "source": [
    "### Mengatasi Cardinality di kolom `Date`"
   ]
  },
  {
   "cell_type": "code",
   "execution_count": 23,
   "metadata": {},
   "outputs": [
    {
     "data": {
      "text/html": [
       "<div>\n",
       "<style scoped>\n",
       "    .dataframe tbody tr th:only-of-type {\n",
       "        vertical-align: middle;\n",
       "    }\n",
       "\n",
       "    .dataframe tbody tr th {\n",
       "        vertical-align: top;\n",
       "    }\n",
       "\n",
       "    .dataframe thead th {\n",
       "        text-align: right;\n",
       "    }\n",
       "</style>\n",
       "<table border=\"1\" class=\"dataframe\">\n",
       "  <thead>\n",
       "    <tr style=\"text-align: right;\">\n",
       "      <th></th>\n",
       "      <th>Location</th>\n",
       "      <th>MinTemp</th>\n",
       "      <th>MaxTemp</th>\n",
       "      <th>Rainfall</th>\n",
       "      <th>WindGustDir</th>\n",
       "      <th>WindGustSpeed</th>\n",
       "      <th>WindDir9am</th>\n",
       "      <th>WindDir3pm</th>\n",
       "      <th>WindSpeed9am</th>\n",
       "      <th>WindSpeed3pm</th>\n",
       "      <th>Humidity9am</th>\n",
       "      <th>Humidity3pm</th>\n",
       "      <th>Pressure9am</th>\n",
       "      <th>Pressure3pm</th>\n",
       "      <th>Temp9am</th>\n",
       "      <th>Temp3pm</th>\n",
       "      <th>RainToday</th>\n",
       "      <th>RainTomorrow</th>\n",
       "      <th>Day</th>\n",
       "      <th>Month</th>\n",
       "      <th>Year</th>\n",
       "    </tr>\n",
       "  </thead>\n",
       "  <tbody>\n",
       "    <tr>\n",
       "      <th>0</th>\n",
       "      <td>Albury</td>\n",
       "      <td>13.4</td>\n",
       "      <td>22.9</td>\n",
       "      <td>0.6</td>\n",
       "      <td>W</td>\n",
       "      <td>44.0</td>\n",
       "      <td>W</td>\n",
       "      <td>WNW</td>\n",
       "      <td>20.0</td>\n",
       "      <td>24.0</td>\n",
       "      <td>71.0</td>\n",
       "      <td>22.0</td>\n",
       "      <td>1007.7</td>\n",
       "      <td>1007.1</td>\n",
       "      <td>16.9</td>\n",
       "      <td>21.8</td>\n",
       "      <td>No</td>\n",
       "      <td>No</td>\n",
       "      <td>1</td>\n",
       "      <td>12</td>\n",
       "      <td>2008</td>\n",
       "    </tr>\n",
       "    <tr>\n",
       "      <th>1</th>\n",
       "      <td>Albury</td>\n",
       "      <td>7.4</td>\n",
       "      <td>25.1</td>\n",
       "      <td>0.0</td>\n",
       "      <td>WNW</td>\n",
       "      <td>44.0</td>\n",
       "      <td>NNW</td>\n",
       "      <td>WSW</td>\n",
       "      <td>4.0</td>\n",
       "      <td>22.0</td>\n",
       "      <td>44.0</td>\n",
       "      <td>25.0</td>\n",
       "      <td>1010.6</td>\n",
       "      <td>1007.8</td>\n",
       "      <td>17.2</td>\n",
       "      <td>24.3</td>\n",
       "      <td>No</td>\n",
       "      <td>No</td>\n",
       "      <td>2</td>\n",
       "      <td>12</td>\n",
       "      <td>2008</td>\n",
       "    </tr>\n",
       "    <tr>\n",
       "      <th>2</th>\n",
       "      <td>Albury</td>\n",
       "      <td>12.9</td>\n",
       "      <td>25.7</td>\n",
       "      <td>0.0</td>\n",
       "      <td>WSW</td>\n",
       "      <td>46.0</td>\n",
       "      <td>W</td>\n",
       "      <td>WSW</td>\n",
       "      <td>19.0</td>\n",
       "      <td>26.0</td>\n",
       "      <td>38.0</td>\n",
       "      <td>30.0</td>\n",
       "      <td>1007.6</td>\n",
       "      <td>1008.7</td>\n",
       "      <td>21.0</td>\n",
       "      <td>23.2</td>\n",
       "      <td>No</td>\n",
       "      <td>No</td>\n",
       "      <td>3</td>\n",
       "      <td>12</td>\n",
       "      <td>2008</td>\n",
       "    </tr>\n",
       "    <tr>\n",
       "      <th>3</th>\n",
       "      <td>Albury</td>\n",
       "      <td>9.2</td>\n",
       "      <td>28.0</td>\n",
       "      <td>0.0</td>\n",
       "      <td>NE</td>\n",
       "      <td>24.0</td>\n",
       "      <td>SE</td>\n",
       "      <td>E</td>\n",
       "      <td>11.0</td>\n",
       "      <td>9.0</td>\n",
       "      <td>45.0</td>\n",
       "      <td>16.0</td>\n",
       "      <td>1017.6</td>\n",
       "      <td>1012.8</td>\n",
       "      <td>18.1</td>\n",
       "      <td>26.5</td>\n",
       "      <td>No</td>\n",
       "      <td>No</td>\n",
       "      <td>4</td>\n",
       "      <td>12</td>\n",
       "      <td>2008</td>\n",
       "    </tr>\n",
       "    <tr>\n",
       "      <th>4</th>\n",
       "      <td>Albury</td>\n",
       "      <td>17.5</td>\n",
       "      <td>32.3</td>\n",
       "      <td>1.0</td>\n",
       "      <td>W</td>\n",
       "      <td>41.0</td>\n",
       "      <td>ENE</td>\n",
       "      <td>NW</td>\n",
       "      <td>7.0</td>\n",
       "      <td>20.0</td>\n",
       "      <td>82.0</td>\n",
       "      <td>33.0</td>\n",
       "      <td>1010.8</td>\n",
       "      <td>1006.0</td>\n",
       "      <td>17.8</td>\n",
       "      <td>29.7</td>\n",
       "      <td>No</td>\n",
       "      <td>No</td>\n",
       "      <td>5</td>\n",
       "      <td>12</td>\n",
       "      <td>2008</td>\n",
       "    </tr>\n",
       "  </tbody>\n",
       "</table>\n",
       "</div>"
      ],
      "text/plain": [
       "  Location  MinTemp  MaxTemp  Rainfall WindGustDir  WindGustSpeed WindDir9am  \\\n",
       "0   Albury     13.4     22.9       0.6           W           44.0          W   \n",
       "1   Albury      7.4     25.1       0.0         WNW           44.0        NNW   \n",
       "2   Albury     12.9     25.7       0.0         WSW           46.0          W   \n",
       "3   Albury      9.2     28.0       0.0          NE           24.0         SE   \n",
       "4   Albury     17.5     32.3       1.0           W           41.0        ENE   \n",
       "\n",
       "  WindDir3pm  WindSpeed9am  WindSpeed3pm  Humidity9am  Humidity3pm  \\\n",
       "0        WNW          20.0          24.0         71.0         22.0   \n",
       "1        WSW           4.0          22.0         44.0         25.0   \n",
       "2        WSW          19.0          26.0         38.0         30.0   \n",
       "3          E          11.0           9.0         45.0         16.0   \n",
       "4         NW           7.0          20.0         82.0         33.0   \n",
       "\n",
       "   Pressure9am  Pressure3pm  Temp9am  Temp3pm RainToday RainTomorrow  Day  \\\n",
       "0       1007.7       1007.1     16.9     21.8        No           No    1   \n",
       "1       1010.6       1007.8     17.2     24.3        No           No    2   \n",
       "2       1007.6       1008.7     21.0     23.2        No           No    3   \n",
       "3       1017.6       1012.8     18.1     26.5        No           No    4   \n",
       "4       1010.8       1006.0     17.8     29.7        No           No    5   \n",
       "\n",
       "   Month  Year  \n",
       "0     12  2008  \n",
       "1     12  2008  \n",
       "2     12  2008  \n",
       "3     12  2008  \n",
       "4     12  2008  "
      ]
     },
     "execution_count": 23,
     "metadata": {},
     "output_type": "execute_result"
    }
   ],
   "source": [
    "data['Date'] = pd.to_datetime(data['Date'])\n",
    "\n",
    "data['Day'] = data['Date'].dt.day\n",
    "data['Month'] = data['Date'].dt.month\n",
    "data['Year'] = data['Date'].dt.year\n",
    "\n",
    "data.drop(columns=['Date'], inplace = True)\n",
    "data.head()"
   ]
  },
  {
   "cell_type": "markdown",
   "metadata": {},
   "source": [
    "### Feature Selection"
   ]
  },
  {
   "cell_type": "code",
   "execution_count": 25,
   "metadata": {},
   "outputs": [
    {
     "data": {
      "image/png": "[encoded data removed]",
      "text/plain": [
       "<Figure size 1152x864 with 2 Axes>"
      ]
     },
     "metadata": {},
     "output_type": "display_data"
    }
   ],
   "source": [
    "corr = data.corr()\n",
    "plt.figure(figsize=(16,12))\n",
    "ax = sns.heatmap(corr, square=True, annot=True, fmt='.2f', linecolor='white')\n",
    "plt.show()"
   ]
  },
  {
   "cell_type": "markdown",
   "metadata": {},
   "source": [
    "Dari heatmap di atas, ada beberapa feature yang memiliki korelasi yang tinggi:\n",
    "- `MinTemp` dan `MaxTemp` saling berkorelasi positif dengan nilai **0.74**\n",
    "- `MinTemp` dan `Temp9am` saling berkorelasi positif dengan nilai **0.90**\n",
    "- `MinTemp` dan `Temp3pm` saling berkorelasi positif dengan nilai **0.71**\n",
    "- `MaxTemp` dan `Temp9am` saling berkorelasi positif dengan nilai **0.89**\n",
    "- `MaxTemp` dan `Temp3pm` saling berkorelasi positif dengan nilai **0.98**\n",
    "- `WindGustSpeed` dan `WindSpeed3am` saling berkorelasi positif dengan nilai **0.69**\n",
    "- `Pressure9am` dan `Pressure3pm` saling berkorelasi positif dengan nilai **0.96**\n",
    "- `Temp9am` dan `Temp3pm` saling berkorelasi positif dengan nilai **0.86**"
   ]
  },
  {
   "cell_type": "code",
   "execution_count": 27,
   "metadata": {},
   "outputs": [],
   "source": [
    "drop_numvar = ['MinTemp', 'MaxTemp', 'Temp3pm', 'WindGustSpeed', 'Pressure3pm']\n",
    "data.drop(drop_numvar, axis=1, inplace=True)"
   ]
  },
  {
   "cell_type": "markdown",
   "metadata": {},
   "source": [
    "### Split Data"
   ]
  },
  {
   "cell_type": "code",
   "execution_count": 29,
   "metadata": {},
   "outputs": [],
   "source": [
    "X = data.drop('RainTomorrow', axis = 1)\n",
    "y = data.RainTomorrow"
   ]
  },
  {
   "cell_type": "code",
   "execution_count": 30,
   "metadata": {},
   "outputs": [],
   "source": [
    "X_train, X_test, y_train, y_test = train_test_split(X, y, test_size = 0.20, stratify=y, random_state = 42)"
   ]
  },
  {
   "cell_type": "markdown",
   "metadata": {},
   "source": [
    "### Pipeline"
   ]
  },
  {
   "cell_type": "code",
   "execution_count": 31,
   "metadata": {},
   "outputs": [],
   "source": [
    "cat_feature = [col for col in data.columns if data[col].dtype == 'O'] # list kolom-kolom kategorik\n",
    "cat_feature.remove('RainTomorrow')\n",
    "num_feature = [col for col in data.columns if data[col].dtype != 'O'] # list kolom-kolom numerik"
   ]
  },
  {
   "cell_type": "code",
   "execution_count": 32,
   "metadata": {},
   "outputs": [],
   "source": [
    "# numerik pipeline\n",
    "num_pipeline = Pipeline([\n",
    "    ('imputer', SimpleImputer(strategy='median')), # Handling missing values\n",
    "    ('scaling', StandardScaler()) # Penyekalaan data\n",
    "])"
   ]
  },
  {
   "cell_type": "code",
   "execution_count": 33,
   "metadata": {},
   "outputs": [],
   "source": [
    "# kategorik pipeline\n",
    "cat_pipeline = Pipeline([\n",
    "    ('imputer', SimpleImputer(strategy='most_frequent')),\n",
    "    ('encoding', OneHotEncoder(sparse=False)),\n",
    "    ('scaling', StandardScaler())\n",
    "])"
   ]
  },
  {
   "cell_type": "code",
   "execution_count": 34,
   "metadata": {},
   "outputs": [],
   "source": [
    "# master pipeline untuk preprocessing\n",
    "preprocessor = ColumnTransformer([\n",
    "    ('numeric', num_pipeline, num_feature), \n",
    "    ('categorical', cat_pipeline, cat_feature)\n",
    "])"
   ]
  },
  {
   "cell_type": "markdown",
   "metadata": {},
   "source": [
    "## VII. Pendefinisian Model\n",
    "---"
   ]
  },
  {
   "cell_type": "code",
   "execution_count": 35,
   "metadata": {},
   "outputs": [],
   "source": [
    "# Logistic Regression\n",
    "pipeline_log = Pipeline([\n",
    "    ('prep', preprocessor),\n",
    "    ('algo', LogisticRegression())\n",
    "])"
   ]
  },
  {
   "cell_type": "code",
   "execution_count": 36,
   "metadata": {},
   "outputs": [],
   "source": [
    "pipeline_svm = Pipeline([\n",
    "    ('prep', preprocessor),\n",
    "    ('algo', SVC())\n",
    "])"
   ]
  },
  {
   "cell_type": "markdown",
   "metadata": {},
   "source": [
    "## VIII. Pelatihan Model\n",
    "---"
   ]
  },
  {
   "cell_type": "code",
   "execution_count": 37,
   "metadata": {},
   "outputs": [
    {
     "data": {
      "text/plain": [
       "Pipeline(steps=[('prep',\n",
       "                 ColumnTransformer(transformers=[('numeric',\n",
       "                                                  Pipeline(steps=[('imputer',\n",
       "                                                                   SimpleImputer(strategy='median')),\n",
       "                                                                  ('scaling',\n",
       "                                                                   StandardScaler())]),\n",
       "                                                  ['Rainfall', 'WindSpeed9am',\n",
       "                                                   'WindSpeed3pm',\n",
       "                                                   'Humidity9am', 'Humidity3pm',\n",
       "                                                   'Pressure9am', 'Temp9am',\n",
       "                                                   'Day', 'Month', 'Year']),\n",
       "                                                 ('categorical',\n",
       "                                                  Pipeline(steps=[('imputer',\n",
       "                                                                   SimpleImputer(strategy='most_frequent')),\n",
       "                                                                  ('encoding',\n",
       "                                                                   OneHotEncoder(sparse=False)),\n",
       "                                                                  ('scaling',\n",
       "                                                                   StandardScaler())]),\n",
       "                                                  ['Location', 'WindGustDir',\n",
       "                                                   'WindDir9am', 'WindDir3pm',\n",
       "                                                   'RainToday'])])),\n",
       "                ('algo', LogisticRegression())])"
      ]
     },
     "execution_count": 37,
     "metadata": {},
     "output_type": "execute_result"
    }
   ],
   "source": [
    "pipeline_log.fit(X_train, y_train)"
   ]
  },
  {
   "cell_type": "code",
   "execution_count": 38,
   "metadata": {},
   "outputs": [
    {
     "data": {
      "text/plain": [
       "Pipeline(steps=[('prep',\n",
       "                 ColumnTransformer(transformers=[('numeric',\n",
       "                                                  Pipeline(steps=[('imputer',\n",
       "                                                                   SimpleImputer(strategy='median')),\n",
       "                                                                  ('scaling',\n",
       "                                                                   StandardScaler())]),\n",
       "                                                  ['Rainfall', 'WindSpeed9am',\n",
       "                                                   'WindSpeed3pm',\n",
       "                                                   'Humidity9am', 'Humidity3pm',\n",
       "                                                   'Pressure9am', 'Temp9am',\n",
       "                                                   'Day', 'Month', 'Year']),\n",
       "                                                 ('categorical',\n",
       "                                                  Pipeline(steps=[('imputer',\n",
       "                                                                   SimpleImputer(strategy='most_frequent')),\n",
       "                                                                  ('encoding',\n",
       "                                                                   OneHotEncoder(sparse=False)),\n",
       "                                                                  ('scaling',\n",
       "                                                                   StandardScaler())]),\n",
       "                                                  ['Location', 'WindGustDir',\n",
       "                                                   'WindDir9am', 'WindDir3pm',\n",
       "                                                   'RainToday'])])),\n",
       "                ('algo', SVC())])"
      ]
     },
     "execution_count": 38,
     "metadata": {},
     "output_type": "execute_result"
    }
   ],
   "source": [
    "pipeline_svm.fit(X_train, y_train)"
   ]
  },
  {
   "cell_type": "markdown",
   "metadata": {},
   "source": [
    "## IX. Evaluasi Model\n",
    "---"
   ]
  },
  {
   "cell_type": "markdown",
   "metadata": {},
   "source": [
    "### Baseline Model"
   ]
  },
  {
   "cell_type": "markdown",
   "metadata": {},
   "source": [
    "#### 1. Logistic Regression"
   ]
  },
  {
   "cell_type": "code",
   "execution_count": 41,
   "metadata": {},
   "outputs": [
    {
     "name": "stdout",
     "output_type": "stream",
     "text": [
      "              precision    recall  f1-score   support\n",
      "\n",
      "          No       0.86      0.95      0.90     22064\n",
      "         Yes       0.71      0.46      0.56      6375\n",
      "\n",
      "    accuracy                           0.84     28439\n",
      "   macro avg       0.79      0.70      0.73     28439\n",
      "weighted avg       0.83      0.84      0.82     28439\n",
      "\n",
      "[[20900  3458]\n",
      " [ 1164  2917]]\n"
     ]
    }
   ],
   "source": [
    "y_pred = pipeline_log.predict(X_test)\n",
    "print(classification_report(y_test, pipeline_log.predict(X_test)))\n",
    "print(confusion_matrix(y_pred, y_test))"
   ]
  },
  {
   "cell_type": "markdown",
   "metadata": {},
   "source": [
    "Meskipun akurasi dari model ini 0.84, model ini buruk dalam mendeteksi class `Yes`. Alasannya mungkin karena *imbalanced data* di mana class `No` jauh lebih banyak datanya dari class `Yes` (3.5 kali lebih banyak)."
   ]
  },
  {
   "cell_type": "markdown",
   "metadata": {},
   "source": [
    "### 2. SVM"
   ]
  },
  {
   "cell_type": "code",
   "execution_count": 43,
   "metadata": {},
   "outputs": [
    {
     "name": "stdout",
     "output_type": "stream",
     "text": [
      "              precision    recall  f1-score   support\n",
      "\n",
      "          No       0.86      0.96      0.91     22064\n",
      "         Yes       0.77      0.48      0.59      6375\n",
      "\n",
      "    accuracy                           0.85     28439\n",
      "   macro avg       0.82      0.72      0.75     28439\n",
      "weighted avg       0.84      0.85      0.84     28439\n",
      "\n",
      "[[21165  3316]\n",
      " [  899  3059]]\n"
     ]
    }
   ],
   "source": [
    "y_pred = pipeline_svm.predict(X_test)\n",
    "print(classification_report(y_test, y_pred))\n",
    "print(confusion_matrix(y_pred, y_test))"
   ]
  },
  {
   "cell_type": "markdown",
   "metadata": {},
   "source": [
    "Model ini memerlukan +-20 menit untuk di fit menggunakan mesin saya. Dibandingkan dengan model sebelumnya, *Logistic Regression*, yang hanya +-2 detik.  \n",
    "Jika dilihat dari keseluruhan score, score model SVM ini cukup mirip dengan model sebelumnya dan hanya sedikit lebih baik dalam mendeteksi class `No`."
   ]
  },
  {
   "cell_type": "markdown",
   "metadata": {},
   "source": [
    "### Parameter Tuning"
   ]
  },
  {
   "cell_type": "code",
   "execution_count": 59,
   "metadata": {},
   "outputs": [],
   "source": [
    "param_grid_log = {'algo__penalty': ['l1', 'l2','elasticnet', 'none'],\n",
    "                'algo__C': [0.001, 0.01, 0.1, 1],\n",
    "                'algo__solver': ['lbfgs', 'sag', 'saga']\n",
    "}\n",
    "\n",
    "\n",
    "\n",
    "# param_grid_svm = {\n",
    "#                 'algo__C': [0.001, 0.01, 0.1, 1],\n",
    "#                 'algo__kernel': ['rbf', 'linear']\n",
    "# }"
   ]
  },
  {
   "cell_type": "markdown",
   "metadata": {},
   "source": [
    "#### 1. Loggistic Regression"
   ]
  },
  {
   "cell_type": "code",
   "execution_count": 60,
   "metadata": {},
   "outputs": [
    {
     "data": {
      "text/plain": [
       "RandomizedSearchCV(cv=5,\n",
       "                   estimator=Pipeline(steps=[('prep',\n",
       "                                              ColumnTransformer(transformers=[('numeric',\n",
       "                                                                               Pipeline(steps=[('imputer',\n",
       "                                                                                                SimpleImputer(strategy='median')),\n",
       "                                                                                               ('scaling',\n",
       "                                                                                                StandardScaler())]),\n",
       "                                                                               ['Rainfall',\n",
       "                                                                                'WindSpeed9am',\n",
       "                                                                                'WindSpeed3pm',\n",
       "                                                                                'Humidity9am',\n",
       "                                                                                'Humidity3pm',\n",
       "                                                                                'Pressure9am',\n",
       "                                                                                'Temp9am',\n",
       "                                                                                'Day',\n",
       "                                                                                'Month',\n",
       "                                                                                'Year']),\n",
       "                                                                              ('categorical',\n",
       "                                                                               Pipeline(steps=[('imputer',\n",
       "                                                                                                SimpleImputer(strategy='most_frequent')),\n",
       "                                                                                               ('encoding',\n",
       "                                                                                                OneHotEncoder(sparse=False)),\n",
       "                                                                                               ('scaling',\n",
       "                                                                                                StandardScaler())]),\n",
       "                                                                               ['Location',\n",
       "                                                                                'WindGustDir',\n",
       "                                                                                'WindDir9am',\n",
       "                                                                                'WindDir3pm',\n",
       "                                                                                'RainToday'])])),\n",
       "                                             ('algo', LogisticRegression())]),\n",
       "                   n_jobs=-1,\n",
       "                   param_distributions={'algo__C': [0.001, 0.01, 0.1, 1],\n",
       "                                        'algo__penalty': ['l1', 'l2',\n",
       "                                                          'elasticnet',\n",
       "                                                          'none'],\n",
       "                                        'algo__solver': ['lbfgs', 'sag',\n",
       "                                                         'saga']},\n",
       "                   random_state=42)"
      ]
     },
     "execution_count": 60,
     "metadata": {},
     "output_type": "execute_result"
    }
   ],
   "source": [
    "rand_log = RandomizedSearchCV(pipeline_log, param_grid_log, cv =5, random_state=42, n_jobs=-1)\n",
    "rand_log.fit(X_train, y_train)"
   ]
  },
  {
   "cell_type": "code",
   "execution_count": 61,
   "metadata": {},
   "outputs": [
    {
     "data": {
      "text/plain": [
       "{'algo__solver': 'saga', 'algo__penalty': 'l1', 'algo__C': 0.1}"
      ]
     },
     "execution_count": 61,
     "metadata": {},
     "output_type": "execute_result"
    }
   ],
   "source": [
    "rand_log.best_params_"
   ]
  },
  {
   "cell_type": "code",
   "execution_count": 62,
   "metadata": {},
   "outputs": [],
   "source": [
    "log_best_params = rand_log.best_estimator_"
   ]
  },
  {
   "cell_type": "code",
   "execution_count": 63,
   "metadata": {},
   "outputs": [
    {
     "name": "stdout",
     "output_type": "stream",
     "text": [
      "[[20907  3460]\n",
      " [ 1157  2915]]\n",
      "              precision    recall  f1-score   support\n",
      "\n",
      "          No       0.95      0.86      0.90     24367\n",
      "         Yes       0.46      0.72      0.56      4072\n",
      "\n",
      "    accuracy                           0.84     28439\n",
      "   macro avg       0.70      0.79      0.73     28439\n",
      "weighted avg       0.88      0.84      0.85     28439\n",
      "\n"
     ]
    }
   ],
   "source": [
    "y_pred = log_best_params.predict(X_test)\n",
    "print(confusion_matrix(y_pred, y_test))\n",
    "print(classification_report(y_pred,y_test))"
   ]
  },
  {
   "cell_type": "markdown",
   "metadata": {},
   "source": [
    "#### 2. SVM"
   ]
  },
  {
   "cell_type": "markdown",
   "metadata": {},
   "source": [
    "Tidak dilakukan parameter tuning menggunakan RandomizedSearchCV untuk yang SVM karena dataset training terlalu banyak dan akan memakan waktu yang terlalu lama"
   ]
  },
  {
   "cell_type": "code",
   "execution_count": null,
   "metadata": {},
   "outputs": [],
   "source": [
    "# rand_svm = RandomizedSearchCV(pipeline_svm, param_grid_svm, cv =5, random_state=42, n_jobs=4)\n",
    "# rand_svm.fit(X_train, y_train)"
   ]
  },
  {
   "cell_type": "code",
   "execution_count": null,
   "metadata": {},
   "outputs": [],
   "source": [
    "# svm_best_params = rand_log.best_estimator_"
   ]
  },
  {
   "cell_type": "code",
   "execution_count": null,
   "metadata": {},
   "outputs": [],
   "source": [
    "# y_pred = svm_best_params.predict(X_test)\n",
    "# print(confusion_matrix(y_pred, y_test))\n",
    "# print(classification_report(y_pred,y_test))"
   ]
  },
  {
   "cell_type": "markdown",
   "metadata": {},
   "source": [
    "## X. Model Inference\n",
    "---"
   ]
  },
  {
   "cell_type": "markdown",
   "metadata": {},
   "source": [
    "### Create new dataset with 100 rows"
   ]
  },
  {
   "cell_type": "code",
   "execution_count": 50,
   "metadata": {},
   "outputs": [
    {
     "data": {
      "text/html": [
       "<div>\n",
       "<style scoped>\n",
       "    .dataframe tbody tr th:only-of-type {\n",
       "        vertical-align: middle;\n",
       "    }\n",
       "\n",
       "    .dataframe tbody tr th {\n",
       "        vertical-align: top;\n",
       "    }\n",
       "\n",
       "    .dataframe thead th {\n",
       "        text-align: right;\n",
       "    }\n",
       "</style>\n",
       "<table border=\"1\" class=\"dataframe\">\n",
       "  <thead>\n",
       "    <tr style=\"text-align: right;\">\n",
       "      <th></th>\n",
       "      <th>Location</th>\n",
       "      <th>Rainfall</th>\n",
       "      <th>WindGustDir</th>\n",
       "      <th>WindDir9am</th>\n",
       "      <th>WindDir3pm</th>\n",
       "      <th>WindSpeed9am</th>\n",
       "      <th>WindSpeed3pm</th>\n",
       "      <th>Humidity9am</th>\n",
       "      <th>Humidity3pm</th>\n",
       "      <th>Pressure9am</th>\n",
       "      <th>Temp9am</th>\n",
       "      <th>RainToday</th>\n",
       "      <th>Day</th>\n",
       "      <th>Month</th>\n",
       "      <th>Year</th>\n",
       "    </tr>\n",
       "  </thead>\n",
       "  <tbody>\n",
       "    <tr>\n",
       "      <th>86</th>\n",
       "      <td>Dartmoor</td>\n",
       "      <td>55.79</td>\n",
       "      <td>NNW</td>\n",
       "      <td>SSW</td>\n",
       "      <td>NNE</td>\n",
       "      <td>42.35</td>\n",
       "      <td>46.25</td>\n",
       "      <td>93.00</td>\n",
       "      <td>58.28</td>\n",
       "      <td>1158.07</td>\n",
       "      <td>-7.15</td>\n",
       "      <td>Yes</td>\n",
       "      <td>2.0</td>\n",
       "      <td>5.0</td>\n",
       "      <td>2018.0</td>\n",
       "    </tr>\n",
       "    <tr>\n",
       "      <th>73</th>\n",
       "      <td>SydneyAirport</td>\n",
       "      <td>29.64</td>\n",
       "      <td>E</td>\n",
       "      <td>SSW</td>\n",
       "      <td>S</td>\n",
       "      <td>97.96</td>\n",
       "      <td>32.97</td>\n",
       "      <td>28.15</td>\n",
       "      <td>45.51</td>\n",
       "      <td>911.45</td>\n",
       "      <td>51.08</td>\n",
       "      <td>No</td>\n",
       "      <td>28.0</td>\n",
       "      <td>2.0</td>\n",
       "      <td>2017.0</td>\n",
       "    </tr>\n",
       "    <tr>\n",
       "      <th>56</th>\n",
       "      <td>NorahHead</td>\n",
       "      <td>378.19</td>\n",
       "      <td>SSW</td>\n",
       "      <td>SSE</td>\n",
       "      <td>ENE</td>\n",
       "      <td>138.25</td>\n",
       "      <td>13.33</td>\n",
       "      <td>89.60</td>\n",
       "      <td>34.91</td>\n",
       "      <td>1151.31</td>\n",
       "      <td>26.01</td>\n",
       "      <td>Yes</td>\n",
       "      <td>24.0</td>\n",
       "      <td>5.0</td>\n",
       "      <td>2017.0</td>\n",
       "    </tr>\n",
       "  </tbody>\n",
       "</table>\n",
       "</div>"
      ],
      "text/plain": [
       "         Location  Rainfall WindGustDir WindDir9am WindDir3pm  WindSpeed9am  \\\n",
       "86       Dartmoor     55.79         NNW        SSW        NNE         42.35   \n",
       "73  SydneyAirport     29.64           E        SSW          S         97.96   \n",
       "56      NorahHead    378.19         SSW        SSE        ENE        138.25   \n",
       "\n",
       "    WindSpeed3pm  Humidity9am  Humidity3pm  Pressure9am  Temp9am RainToday  \\\n",
       "86         46.25        93.00        58.28      1158.07    -7.15       Yes   \n",
       "73         32.97        28.15        45.51       911.45    51.08        No   \n",
       "56         13.33        89.60        34.91      1151.31    26.01       Yes   \n",
       "\n",
       "     Day  Month    Year  \n",
       "86   2.0    5.0  2018.0  \n",
       "73  28.0    2.0  2017.0  \n",
       "56  24.0    5.0  2017.0  "
      ]
     },
     "execution_count": 50,
     "metadata": {},
     "output_type": "execute_result"
    }
   ],
   "source": [
    "# list of possible categorical value\n",
    "Location = data['Location'].unique()\n",
    "WindGustDir = data['WindGustDir'].unique()\n",
    "WindDir9am = data['WindDir9am'].unique()\n",
    "WindDir3pm = data['WindDir3pm'].unique()\n",
    "RainToday = data['RainToday'].unique()\n",
    "\n",
    "# empty list for new value\n",
    "new_Location = []\n",
    "new_Rainfall = []\n",
    "new_WindGustDir = []\n",
    "new_WindDir9am = []\n",
    "new_WindDir3pm = []\n",
    "new_WindSpeed9am = []\n",
    "new_WindSpeed3pm = []\n",
    "new_Humidity9am = []\n",
    "new_Humidity3pm = []\n",
    "new_Pressure9am = []\n",
    "new_Temp9am = []\n",
    "new_RainToday = []\n",
    "new_Day = []\n",
    "new_Month = []\n",
    "new_Year = []\n",
    "\n",
    "#fill new list with random values from list of possible values 100 times\n",
    "for i in range(100):\n",
    "    Rainfall = round(random.uniform(0.00, 400.00), 2)\n",
    "    WindSpeed9am = round(random.uniform(0.00, 150.00), 2)\n",
    "    WindSpeed3pm = round(random.uniform(0.00, 100.00), 2)\n",
    "    Humidity9am = round(random.uniform(0.00, 100.00), 2)\n",
    "    Humidity3pm = round(random.uniform(0.00, 100.00), 2)\n",
    "    Pressure9am = round(random.uniform(800.00, 1200.00), 2)\n",
    "    Temp9am = round(random.uniform(-10.00, 55.00), 2)\n",
    "    Day = round(random.uniform(1, 31), 0)\n",
    "    Month = round(random.uniform(1, 12), 0)\n",
    "    Year = round(random.uniform(2017, 2021), 0)\n",
    "\n",
    "\n",
    "    new_Location.append(random.choice(Location))\n",
    "    new_WindGustDir.append(random.choice(WindGustDir))\n",
    "    new_WindDir9am.append(random.choice(WindDir9am))\n",
    "    new_WindDir3pm.append(random.choice(WindDir3pm))\n",
    "    new_RainToday.append(random.choice(RainToday))\n",
    "\n",
    "    new_Rainfall.append(Rainfall)\n",
    "    new_WindSpeed9am.append(WindSpeed9am)\n",
    "    new_WindSpeed3pm.append(WindSpeed3pm)\n",
    "    new_Humidity9am.append(Humidity9am)\n",
    "    new_Humidity3pm.append(Humidity3pm)\n",
    "    new_Pressure9am.append(Pressure9am)\n",
    "    new_Temp9am.append(Temp9am)\n",
    "    new_Day.append(Day)\n",
    "    new_Month.append(Month)\n",
    "    new_Year.append(Year)\n",
    "\n",
    "dict = {\n",
    "    'Location':new_Location,\n",
    "    'Rainfall':new_Rainfall,\n",
    "    'WindGustDir':new_WindGustDir,\n",
    "    'WindDir9am':new_WindDir9am,\n",
    "    'WindDir3pm':new_WindDir3pm,\n",
    "    'WindSpeed9am':new_WindSpeed9am,\n",
    "    'WindSpeed3pm':new_WindSpeed3pm,\n",
    "    'Humidity9am':new_Humidity9am,\n",
    "    'Humidity3pm':new_Humidity3pm,\n",
    "    'Pressure9am':new_Pressure9am,\n",
    "    'Temp9am':new_Temp9am,\n",
    "    'RainToday':new_RainToday,\n",
    "    'Day':new_Day,\n",
    "    'Month':new_Month,\n",
    "    'Year':new_Year\n",
    "}\n",
    "\n",
    "#create new_data dataframe\n",
    "new_data = pd.DataFrame(dict)\n",
    "new_data.sample(3)"
   ]
  },
  {
   "cell_type": "markdown",
   "metadata": {},
   "source": [
    "### Predict"
   ]
  },
  {
   "cell_type": "code",
   "execution_count": 56,
   "metadata": {},
   "outputs": [
    {
     "data": {
      "text/plain": [
       "Counter({'Yes': 62, 'No': 38})"
      ]
     },
     "execution_count": 56,
     "metadata": {},
     "output_type": "execute_result"
    }
   ],
   "source": [
    "# Logistic Regression\n",
    "result_log = pipeline_log.predict(new_data)\n",
    "Counter(result_log)"
   ]
  },
  {
   "cell_type": "code",
   "execution_count": 64,
   "metadata": {},
   "outputs": [
    {
     "data": {
      "text/plain": [
       "Counter({'Yes': 62, 'No': 38})"
      ]
     },
     "execution_count": 64,
     "metadata": {},
     "output_type": "execute_result"
    }
   ],
   "source": [
    "# Logistic Regression after tuning\n",
    "result_log_best = log_best_params.predict(new_data)\n",
    "Counter(result_log_best)"
   ]
  },
  {
   "cell_type": "code",
   "execution_count": 57,
   "metadata": {},
   "outputs": [
    {
     "data": {
      "text/plain": [
       "Counter({'Yes': 99, 'No': 1})"
      ]
     },
     "execution_count": 57,
     "metadata": {},
     "output_type": "execute_result"
    }
   ],
   "source": [
    "# SVC\n",
    "result_svm = pipeline_svm.predict(new_data)\n",
    "Counter(result_svm)"
   ]
  },
  {
   "cell_type": "markdown",
   "metadata": {},
   "source": [
    "## XI. Pengambilan Kesimpulan\n",
    "---"
   ]
  },
  {
   "cell_type": "markdown",
   "metadata": {},
   "source": [
    "Model yang digunakan dalam projek ini:\n",
    "1. Logistic Regression\n",
    "    - Sebelum Tuning:  \n",
    "        Accuracy: Test Set Score = 0.84  \n",
    "        f1-score: Class `No`= 0.90, Class `Yes` = 0.56  \n",
    "    - Setelah Tuning (Best Param: 'algo__solver': 'saga', 'algo__penalty': 'l1', 'algo__C': 0.1)  \n",
    "        Accuracy: Test Set Score = 0.84  \n",
    "        f1-score: Class `No`= 0.90, Class `Yes` = 0.56  \n",
    "2. SVM\n",
    "    - Sebelum Tuning:  \n",
    "        Accuracy: Test Set Score = 0.85  \n",
    "        f1-score: Class `No`= 0.91, Class `Yes` = 0.59  \n",
    "\n",
    "\n",
    "Nilai akurasi & f1-score Logistic Regression sebelum dan setelah tuning sama sedangkan SVM menunjukkan nilai yang sedikit lebih baik. Namun karena jumlah dataset training yang cukup besar training dengan model SVM memakan waktu yang sangat lama (+- 20 menit) sedangkan untuk Logistic Regression hanya +- 2 detik.  \n",
    "  \n",
    "Semua model menunjukkan nilai f1-score yang buruk dalam memprediksi class `Yes`. Hal ini dapat disebabkan karena *imbalanced* dataset, di mana class`No` 3.5 kali lebih banyak.  \n",
    "  \n",
    "#### Future Note\n",
    "- SVM : jika memungkinkan, lakukan sampling saja agar training model lebih cepat\n"
   ]
  }
 ],
 "metadata": {
  "interpreter": {
   "hash": "380030d1298d5a27518acca789ff38fe82bbf2e68b73263de6a6bf23efb7704c"
  },
  "kernelspec": {
   "display_name": "Python 3.8.8 64-bit ('base': conda)",
   "language": "python",
   "name": "python3"
  },
  "language_info": {
   "codemirror_mode": {
    "name": "ipython",
    "version": 3
   },
   "file_extension": ".py",
   "mimetype": "text/x-python",
   "name": "python",
   "nbconvert_exporter": "python",
   "pygments_lexer": "ipython3",
   "version": "3.8.8"
  },
  "orig_nbformat": 4
 },
 "nbformat": 4,
 "nbformat_minor": 2
}
